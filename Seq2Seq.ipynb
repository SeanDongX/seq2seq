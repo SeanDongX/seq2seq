{
 "cells": [
  {
   "cell_type": "code",
   "execution_count": null,
   "metadata": {
    "collapsed": false,
    "deletable": true,
    "editable": true
   },
   "outputs": [],
   "source": [
    "# coding: utf-8\n",
    "from __future__ import print_function\n",
    "\n",
    "import os\n",
    "import re\n",
    "import string\n",
    "from itertools import dropwhile\n",
    "\n",
    "import pickle\n",
    "\n",
    "import numpy as np\n",
    "from keras.layers.recurrent import GRU\n",
    "from keras.layers.wrappers import TimeDistributed\n",
    "from keras.models import Sequential\n",
    "from keras.layers.core import Dense, RepeatVector\n",
    "\n",
    "import seq2seq\n",
    "from seq2seq.models import SimpleSeq2Seq\n",
    "\n",
    "# from ..consts import DATA_PATH\n",
    "# from ..utils import build_model_from_file, save_model_to_file\n",
    "\n",
    "WORDS_FILE = 'words.txt'\n",
    "BEGIN_SYMBOL = '^'\n",
    "END_SYMBOL = '$'\n",
    "CHAR_SET = set(string.ascii_lowercase + BEGIN_SYMBOL + END_SYMBOL)\n",
    "CHAR_NUM = len(CHAR_SET)\n",
    "CHAR_TO_INDICES = {c: i for i, c in enumerate(CHAR_SET)}\n",
    "INDICES_TO_CHAR = {i: c for c, i in CHAR_TO_INDICES.items()}\n",
    "MAX_INPUT_LEN = 18\n",
    "MAX_OUTPUT_LEN = 20\n",
    "\n",
    "NON_ALPHA_PAT = re.compile('[^a-z]')"
   ]
  },
  {
   "cell_type": "code",
   "execution_count": null,
   "metadata": {
    "collapsed": true,
    "deletable": true,
    "editable": true
   },
   "outputs": [],
   "source": [
    "def is_vowel(char):\n",
    "    return char in ('a', 'e', 'i', 'o', 'u')\n",
    "\n",
    "\n",
    "def is_consonant(char):\n",
    "    return not is_vowel(char)\n",
    "\n",
    "\n",
    "def pig_latin(word):\n",
    "    if is_vowel(word[0]):\n",
    "        return word + 'yay'\n",
    "    else:\n",
    "        remain = ''.join(dropwhile(is_consonant, word))\n",
    "        removed = word[:len(word) - len(remain)]\n",
    "        return remain + removed + 'ay'\n",
    "\n",
    "\n",
    "def vectorize(word, seq_len, vec_size):\n",
    "    vec = np.zeros((seq_len, vec_size), dtype=int)\n",
    "    for i, ch in enumerate(word):\n",
    "        vec[i, CHAR_TO_INDICES[ch]] = 1\n",
    "\n",
    "    for i in range(len(word), seq_len):\n",
    "        vec[i, CHAR_TO_INDICES[END_SYMBOL]] = 1\n",
    "\n",
    "    return vec\n",
    "\n",
    "\n",
    "def build_data():\n",
    "    words_file = os.path.join('.', 'words_sub.txt')\n",
    "    words = [\n",
    "        w.lower().strip() for w in open(words_file, 'r').readlines()\n",
    "        if w.strip() != '' and not NON_ALPHA_PAT.findall(w.lower().strip())\n",
    "    ]\n",
    "\n",
    "    plain_x = []\n",
    "    plain_y = []\n",
    "    for w in words:\n",
    "        plain_x.append(BEGIN_SYMBOL + w)\n",
    "        plain_y.append(BEGIN_SYMBOL + pig_latin(w))\n",
    "\n",
    "    # train_x 和 train_y 必须是 3-D 的数据\n",
    "    train_x = np.zeros((len(words), MAX_INPUT_LEN, CHAR_NUM), dtype=int)\n",
    "    train_y = np.zeros((len(words), MAX_OUTPUT_LEN, CHAR_NUM), dtype=int)\n",
    "    for i in range(len(words)):\n",
    "        train_x[i] = vectorize(plain_x[i], MAX_INPUT_LEN, CHAR_NUM)\n",
    "        train_y[i] = vectorize(plain_y[i], MAX_OUTPUT_LEN, CHAR_NUM)\n",
    "\n",
    "    return train_x, train_y\n"
   ]
  },
  {
   "cell_type": "code",
   "execution_count": null,
   "metadata": {
    "collapsed": true,
    "deletable": true,
    "editable": true
   },
   "outputs": [],
   "source": [
    "def build_model_from_file(model_file):\n",
    "    structure, weights = pickle.load(open(model_file, 'rb'))\n",
    "    model = Sequential.from_config(structure)\n",
    "    model.set_weights(weights)\n",
    "\n",
    "    return model\n",
    "\n",
    "\n",
    "def save_model_to_file(model, model_file):\n",
    "    # save model structure\n",
    "    structure = model.get_config()\n",
    "    weights = model.get_weights()\n",
    "    pickle.dump((structure, weights), open(model_file, 'wb'))"
   ]
  },
  {
   "cell_type": "code",
   "execution_count": null,
   "metadata": {
    "collapsed": true,
    "deletable": true,
    "editable": true
   },
   "outputs": [],
   "source": [
    "def build_model(input_size, seq_len, hidden_size):\n",
    "    \"\"\"建立一个 sequence to sequence 模型\"\"\"\n",
    "    model = Sequential()\n",
    "    model.add(GRU(input_dim=input_size, output_dim=hidden_size, return_sequences=False))\n",
    "    model.add(Dense(hidden_size, activation=\"relu\"))\n",
    "    model.add(RepeatVector(seq_len))\n",
    "    model.add(GRU(hidden_size, return_sequences=True))\n",
    "    model.add(TimeDistributed(Dense(output_dim=input_size, activation=\"linear\")))\n",
    "    model.compile(loss=\"mse\", optimizer='rmsprop')\n",
    "\n",
    "    return model"
   ]
  },
  {
   "cell_type": "code",
   "execution_count": null,
   "metadata": {
    "collapsed": true
   },
   "outputs": [],
   "source": [
    "def show_pred(model, x):\n",
    "    pred = model.predict(x)[0]\n",
    "    print(pred.argmax(axis=1))\n",
    "    print(''.join([\n",
    "        INDICES_TO_CHAR[i] for i in pred.argmax(axis=1)\n",
    "        if INDICES_TO_CHAR[i] not in (BEGIN_SYMBOL, END_SYMBOL)\n",
    "    ]))"
   ]
  },
  {
   "cell_type": "code",
   "execution_count": null,
   "metadata": {
    "collapsed": true,
    "deletable": true,
    "editable": true
   },
   "outputs": [],
   "source": [
    "def train(epoch, model_path):\n",
    "    x, y = build_data()\n",
    "    indices = int(len(x) / 10)\n",
    "    test_x = x[:indices]\n",
    "    test_y = y[:indices]\n",
    "    train_x = x[indices:]\n",
    "    train_y = y[indices:]\n",
    "\n",
    "    #model = build_model(CHAR_NUM, MAX_OUTPUT_LEN, 128)\n",
    "\n",
    "    model = getSimpleModel()\n",
    "    model.fit(train_x, train_y, validation_data=(test_x, test_y), batch_size=64, epochs=epoch)\n",
    "\n",
    "    model_file = os.path.join(model_path, 'pig_latin.model')\n",
    "    save_model_to_file(model, model_file)\n",
    "    return model"
   ]
  },
  {
   "cell_type": "code",
   "execution_count": null,
   "metadata": {
    "collapsed": true,
    "deletable": true,
    "editable": true
   },
   "outputs": [],
   "source": [
    "def test(model_path, word):\n",
    "    model_file = os.path.join(model_path, 'pig_latin.model')\n",
    "    model = build_model_from_file(model_file)\n",
    "\n",
    "    x = np.zeros((1, MAX_INPUT_LEN, CHAR_NUM), dtype=int)\n",
    "    word = BEGIN_SYMBOL + word.lower().strip() + END_SYMBOL\n",
    "    x[0] = vectorize(word, MAX_INPUT_LEN, CHAR_NUM)\n",
    "\n",
    "    pred = model.predict(x)[0]\n",
    "    print(pred.argmax(axis=1))\n",
    "    print(''.join([\n",
    "        INDICES_TO_CHAR[i] for i in pred.argmax(axis=1)\n",
    "        if INDICES_TO_CHAR[i] not in (BEGIN_SYMBOL, END_SYMBOL)\n",
    "    ]))"
   ]
  },
  {
   "cell_type": "code",
   "execution_count": null,
   "metadata": {
    "collapsed": false,
    "deletable": true,
    "editable": true
   },
   "outputs": [],
   "source": [
    "def get_data_subset(fraction):\n",
    "    word_subset = list()\n",
    "    \n",
    "    with open(\"./words.txt\", encoding=\"utf-8\") as f:\n",
    "        k = 0\n",
    "        for l in f:\n",
    "            if k % fraction == 0:\n",
    "                word_subset.append(l)\n",
    "            k+=1\n",
    "\n",
    "    file_path = \"words_sub.txt\"\n",
    "    if os.path.isfile(file_path):\n",
    "        os.remove(file_path)\n",
    "    \n",
    "    with open(file_path, \"a\") as f:\n",
    "        for w in word_subset:\n",
    "            f.write(w)"
   ]
  },
  {
   "cell_type": "code",
   "execution_count": null,
   "metadata": {
    "collapsed": false,
    "deletable": true,
    "editable": true
   },
   "outputs": [],
   "source": [
    "def getSimpleModel():\n",
    "    model = SimpleSeq2Seq(input_dim=CHAR_NUM, input_length=MAX_INPUT_LEN, hidden_dim=10, output_length=MAX_OUTPUT_LEN, output_dim=CHAR_NUM)\n",
    "    model.compile(loss='mse', optimizer='rmsprop')\n",
    "    return model"
   ]
  },
  {
   "cell_type": "code",
   "execution_count": null,
   "metadata": {
    "collapsed": true
   },
   "outputs": [],
   "source": [
    "def test_model(model, word):\n",
    "    x = np.zeros((1, MAX_INPUT_LEN, CHAR_NUM), dtype=int)\n",
    "    word = BEGIN_SYMBOL + word.lower().strip() + END_SYMBOL\n",
    "    x[0] = vectorize(word, MAX_INPUT_LEN, CHAR_NUM)\n",
    "\n",
    "    pred = model.predict(x)[0]\n",
    "    print(pred.argmax(axis=1))\n",
    "    print(''.join([\n",
    "        INDICES_TO_CHAR[i] for i in pred.argmax(axis=1)\n",
    "        if INDICES_TO_CHAR[i] not in (BEGIN_SYMBOL, END_SYMBOL)\n",
    "    ]))"
   ]
  },
  {
   "cell_type": "code",
   "execution_count": null,
   "metadata": {
    "collapsed": true
   },
   "outputs": [],
   "source": []
  },
  {
   "cell_type": "code",
   "execution_count": null,
   "metadata": {
    "collapsed": false,
    "deletable": true,
    "editable": true
   },
   "outputs": [],
   "source": [
    "get_data_subset(5)"
   ]
  },
  {
   "cell_type": "code",
   "execution_count": null,
   "metadata": {
    "collapsed": false,
    "deletable": true,
    "editable": true
   },
   "outputs": [],
   "source": [
    "model = train(5, '.')"
   ]
  },
  {
   "cell_type": "code",
   "execution_count": null,
   "metadata": {
    "collapsed": false
   },
   "outputs": [],
   "source": [
    "test_model(model, 'alphabit')\n",
    "test_model(model, 'earn')\n",
    "test_model(model, 'validate')\n",
    "test_model(model, 'sample')\n"
   ]
  },
  {
   "cell_type": "code",
   "execution_count": null,
   "metadata": {
    "collapsed": false,
    "deletable": true,
    "editable": true
   },
   "outputs": [],
   "source": [
    "test('.', 'alphabit')\n",
    "test('.', 'earn')\n",
    "test('.', 'validate')\n",
    "test('.', 'sample')"
   ]
  }
 ],
 "metadata": {
  "kernelspec": {
   "display_name": "Python 3",
   "language": "python",
   "name": "python3"
  },
  "language_info": {
   "codemirror_mode": {
    "name": "ipython",
    "version": 3
   },
   "file_extension": ".py",
   "mimetype": "text/x-python",
   "name": "python",
   "nbconvert_exporter": "python",
   "pygments_lexer": "ipython3",
   "version": "3.5.4"
  }
 },
 "nbformat": 4,
 "nbformat_minor": 2
}
